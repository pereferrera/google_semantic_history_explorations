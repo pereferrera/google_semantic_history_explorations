{
 "cells": [
  {
   "cell_type": "code",
   "execution_count": 10,
   "metadata": {
    "scrolled": true
   },
   "outputs": [],
   "source": [
    "LOCATION_HISTORY_FILE='/home/pere/Semantic_Location_History/2020/2020_MAY.json'\n",
    "TIME_ZONE='Europe/Berlin'"
   ]
  },
  {
   "cell_type": "code",
   "execution_count": 11,
   "metadata": {
    "scrolled": true
   },
   "outputs": [],
   "source": [
    "import json\n",
    "import datetime\n",
    "\n",
    "import shapely.geometry as sg\n",
    "import pandas as pd\n",
    "import geopandas as gp\n",
    "from matplotlib import cm"
   ]
  },
  {
   "cell_type": "code",
   "execution_count": 12,
   "metadata": {
    "scrolled": true
   },
   "outputs": [],
   "source": [
    "history = json.load(open(LOCATION_HISTORY_FILE))"
   ]
  },
  {
   "cell_type": "code",
   "execution_count": 13,
   "metadata": {
    "scrolled": true
   },
   "outputs": [
    {
     "data": {
      "text/plain": [
       "54"
      ]
     },
     "execution_count": 13,
     "metadata": {},
     "output_type": "execute_result"
    }
   ],
   "source": [
    "len(history['timelineObjects'])"
   ]
  },
  {
   "cell_type": "code",
   "execution_count": 14,
   "metadata": {
    "scrolled": true
   },
   "outputs": [],
   "source": [
    "def get_point(obj):\n",
    "    \"\"\"\n",
    "    Returns a shapely.geometry.Point from an object that has the\n",
    "    attributes \"longitudeE7\" and \"latitudeE7\"\n",
    "    \"\"\"\n",
    "    return sg.Point(obj[\"longitudeE7\"] / 10000000,\n",
    "                    obj[\"latitudeE7\"] / 10000000)"
   ]
  },
  {
   "cell_type": "code",
   "execution_count": 15,
   "metadata": {},
   "outputs": [],
   "source": [
    "def to_datetime_tz(ms):\n",
    "    return pd.to_datetime(ms, unit='ms').tz_localize('UTC').tz_convert(TIME_ZONE)"
   ]
  },
  {
   "cell_type": "code",
   "execution_count": 16,
   "metadata": {},
   "outputs": [],
   "source": [
    "def get_raw_path_point(obj):\n",
    "    \"\"\"\n",
    "    Returns a tuple with a shapely.geometry.Point and a datetime, \n",
    "    corresponding to a point in a sampled time-path e.g. what you can\n",
    "    find in 'simplifiedRawPath' in 'activitySegment' objects\n",
    "    \"\"\"\n",
    "    return (\n",
    "        sg.Point(obj[\"lngE7\"] / 10000000,\n",
    "                 obj[\"latE7\"] / 10000000),\n",
    "        to_datetime_tz(obj['timestampMs'])\n",
    "    )"
   ]
  },
  {
   "cell_type": "code",
   "execution_count": 17,
   "metadata": {},
   "outputs": [],
   "source": [
    "def calc_duration_minutes(duration_obj):\n",
    "    \"\"\" return the minutes from the difference in the object below:\n",
    "    \n",
    "      \"duration\" : {\n",
    "         \"startTimestampMs\" : \"1585739488388\",\n",
    "         \"endTimestampMs\" : \"1585759177100\"\n",
    "      }    \n",
    "    \"\"\"\n",
    "    return int((int(duration_obj['endTimestampMs']) - \n",
    "                int(duration_obj['startTimestampMs'])) / 1000 / 60)"
   ]
  },
  {
   "cell_type": "code",
   "execution_count": 18,
   "metadata": {},
   "outputs": [],
   "source": [
    "def elapsed_minutes(start_date, end_date):\n",
    "    \"\"\"Calculate integer elapsed minutes from two datetimes\"\"\"\n",
    "    elapsed_time = end_date - start_date\n",
    "    return int(\n",
    "        divmod(elapsed_time.total_seconds(), 60)[0]\n",
    "    )"
   ]
  },
  {
   "cell_type": "code",
   "execution_count": 19,
   "metadata": {
    "scrolled": true
   },
   "outputs": [],
   "source": [
    "def semantic_history_to_df(history):\n",
    "    \"\"\"\n",
    "    Returns a pandas DataFrame from a semantic history JSON array.\n",
    "    Unifies the most important information into a flat schema.\n",
    "    \"\"\"\n",
    "    parsed_objs = []\n",
    "    \n",
    "    for obj in history['timelineObjects']:\n",
    "        parsed_obj = {\n",
    "        }\n",
    "        if 'activitySegment' in obj:\n",
    "            # activity properties\n",
    "            parsed_obj.update({\n",
    "                  'type': 'moving',\n",
    "                  'activity_type': obj['activitySegment']['activityType'],\n",
    "                  'place': 'MOVING',\n",
    "                  'from_point': get_point(obj['activitySegment']['startLocation']),\n",
    "                  'route': [get_raw_path_point(p) for p in \n",
    "                            obj['activitySegment']\n",
    "                            .get('simplifiedRawPath', {})\n",
    "                            .get('points', [])]\n",
    "            })\n",
    "            duration_obj = obj['activitySegment']['duration']\n",
    "        elif 'placeVisit' in obj:\n",
    "            # place visit properties\n",
    "            parsed_obj.update({\n",
    "                  'type': 'visit',\n",
    "                  'place': (\n",
    "                      'HOME' if obj['placeVisit']['location']\n",
    "                                 .get('semanticType', '') == 'TYPE_HOME'\n",
    "                             else obj['placeVisit']['location']['placeId']\n",
    "                  ),\n",
    "                  # if I'm visiting a place then I'd say I'm still?\n",
    "                  'activity_type': 'STILL',\n",
    "                  'from_point': get_point(obj['placeVisit']['location']),\n",
    "                  'route': []\n",
    "            })\n",
    "            duration_obj = obj['placeVisit']['duration']\n",
    "        else:\n",
    "            # let me know if I missed something!\n",
    "            raise Exception('Unknown timeline object: {}'.format(obj))\n",
    "\n",
    "        # common properties\n",
    "        parsed_obj.update({\n",
    "            'start_date': to_datetime_tz(duration_obj['startTimestampMs']),\n",
    "            'end_date': to_datetime_tz(duration_obj['endTimestampMs']),\n",
    "            'duration_minutes': calc_duration_minutes(duration_obj),\n",
    "            'latitude': parsed_obj['from_point'].y,\n",
    "            'longitude': parsed_obj['from_point'].x,\n",
    "        })\n",
    "        \n",
    "        parsed_objs.append(parsed_obj)\n",
    "            \n",
    "    df = pd.DataFrame(parsed_objs)\n",
    "    \n",
    "    return df"
   ]
  },
  {
   "cell_type": "code",
   "execution_count": 20,
   "metadata": {
    "scrolled": true
   },
   "outputs": [],
   "source": [
    "df = semantic_history_to_df(history)"
   ]
  },
  {
   "cell_type": "code",
   "execution_count": 21,
   "metadata": {
    "scrolled": false
   },
   "outputs": [
    {
     "data": {
      "text/html": [
       "<div>\n",
       "<style scoped>\n",
       "    .dataframe tbody tr th:only-of-type {\n",
       "        vertical-align: middle;\n",
       "    }\n",
       "\n",
       "    .dataframe tbody tr th {\n",
       "        vertical-align: top;\n",
       "    }\n",
       "\n",
       "    .dataframe thead th {\n",
       "        text-align: right;\n",
       "    }\n",
       "</style>\n",
       "<table border=\"1\" class=\"dataframe\">\n",
       "  <thead>\n",
       "    <tr style=\"text-align: right;\">\n",
       "      <th></th>\n",
       "      <th>activity_type</th>\n",
       "      <th>duration_minutes</th>\n",
       "      <th>end_date</th>\n",
       "      <th>from_point</th>\n",
       "      <th>latitude</th>\n",
       "      <th>longitude</th>\n",
       "      <th>place</th>\n",
       "      <th>route</th>\n",
       "      <th>start_date</th>\n",
       "      <th>type</th>\n",
       "    </tr>\n",
       "  </thead>\n",
       "  <tbody>\n",
       "    <tr>\n",
       "      <th>0</th>\n",
       "      <td>WALKING</td>\n",
       "      <td>49</td>\n",
       "      <td>2020-05-01 19:40:05.967000+02:00</td>\n",
       "      <td>POINT (13.2707059 52.4300337)</td>\n",
       "      <td>52.430034</td>\n",
       "      <td>13.270706</td>\n",
       "      <td>MOVING</td>\n",
       "      <td>[(POINT (13.2704077 52.4217796), 2020-05-01 19...</td>\n",
       "      <td>2020-05-01 18:51:01.163000+02:00</td>\n",
       "      <td>moving</td>\n",
       "    </tr>\n",
       "    <tr>\n",
       "      <th>1</th>\n",
       "      <td>STILL</td>\n",
       "      <td>12</td>\n",
       "      <td>2020-05-01 19:52:41.082000+02:00</td>\n",
       "      <td>POINT (13.2636161 52.4222327)</td>\n",
       "      <td>52.422233</td>\n",
       "      <td>13.263616</td>\n",
       "      <td>ChIJsSFvwMlbqEcRp1hFk77mQro</td>\n",
       "      <td>[]</td>\n",
       "      <td>2020-05-01 19:40:05.967000+02:00</td>\n",
       "      <td>visit</td>\n",
       "    </tr>\n",
       "    <tr>\n",
       "      <th>2</th>\n",
       "      <td>WALKING</td>\n",
       "      <td>29</td>\n",
       "      <td>2020-05-01 20:22:39.109000+02:00</td>\n",
       "      <td>POINT (13.2660179 52.4234404)</td>\n",
       "      <td>52.423440</td>\n",
       "      <td>13.266018</td>\n",
       "      <td>MOVING</td>\n",
       "      <td>[(POINT (13.2679396 52.4251823), 2020-05-01 20...</td>\n",
       "      <td>2020-05-01 19:52:41.082000+02:00</td>\n",
       "      <td>moving</td>\n",
       "    </tr>\n",
       "    <tr>\n",
       "      <th>3</th>\n",
       "      <td>STILL</td>\n",
       "      <td>881</td>\n",
       "      <td>2020-05-02 11:03:52.286000+02:00</td>\n",
       "      <td>POINT (13.2698764 52.4306325)</td>\n",
       "      <td>52.430633</td>\n",
       "      <td>13.269876</td>\n",
       "      <td>HOME</td>\n",
       "      <td>[]</td>\n",
       "      <td>2020-05-01 20:22:39.109000+02:00</td>\n",
       "      <td>visit</td>\n",
       "    </tr>\n",
       "    <tr>\n",
       "      <th>4</th>\n",
       "      <td>IN_BUS</td>\n",
       "      <td>25</td>\n",
       "      <td>2020-05-02 11:29:40.248000+02:00</td>\n",
       "      <td>POINT (13.2686761 52.4307043)</td>\n",
       "      <td>52.430704</td>\n",
       "      <td>13.268676</td>\n",
       "      <td>MOVING</td>\n",
       "      <td>[(POINT (13.2686761 52.4307043), 2020-05-02 11...</td>\n",
       "      <td>2020-05-02 11:03:52.286000+02:00</td>\n",
       "      <td>moving</td>\n",
       "    </tr>\n",
       "  </tbody>\n",
       "</table>\n",
       "</div>"
      ],
      "text/plain": [
       "  activity_type  duration_minutes                         end_date  \\\n",
       "0       WALKING                49 2020-05-01 19:40:05.967000+02:00   \n",
       "1         STILL                12 2020-05-01 19:52:41.082000+02:00   \n",
       "2       WALKING                29 2020-05-01 20:22:39.109000+02:00   \n",
       "3         STILL               881 2020-05-02 11:03:52.286000+02:00   \n",
       "4        IN_BUS                25 2020-05-02 11:29:40.248000+02:00   \n",
       "\n",
       "                      from_point   latitude  longitude  \\\n",
       "0  POINT (13.2707059 52.4300337)  52.430034  13.270706   \n",
       "1  POINT (13.2636161 52.4222327)  52.422233  13.263616   \n",
       "2  POINT (13.2660179 52.4234404)  52.423440  13.266018   \n",
       "3  POINT (13.2698764 52.4306325)  52.430633  13.269876   \n",
       "4  POINT (13.2686761 52.4307043)  52.430704  13.268676   \n",
       "\n",
       "                         place  \\\n",
       "0                       MOVING   \n",
       "1  ChIJsSFvwMlbqEcRp1hFk77mQro   \n",
       "2                       MOVING   \n",
       "3                         HOME   \n",
       "4                       MOVING   \n",
       "\n",
       "                                               route  \\\n",
       "0  [(POINT (13.2704077 52.4217796), 2020-05-01 19...   \n",
       "1                                                 []   \n",
       "2  [(POINT (13.2679396 52.4251823), 2020-05-01 20...   \n",
       "3                                                 []   \n",
       "4  [(POINT (13.2686761 52.4307043), 2020-05-02 11...   \n",
       "\n",
       "                        start_date    type  \n",
       "0 2020-05-01 18:51:01.163000+02:00  moving  \n",
       "1 2020-05-01 19:40:05.967000+02:00   visit  \n",
       "2 2020-05-01 19:52:41.082000+02:00  moving  \n",
       "3 2020-05-01 20:22:39.109000+02:00   visit  \n",
       "4 2020-05-02 11:03:52.286000+02:00  moving  "
      ]
     },
     "execution_count": 21,
     "metadata": {},
     "output_type": "execute_result"
    }
   ],
   "source": [
    "df.head()"
   ]
  },
  {
   "cell_type": "code",
   "execution_count": 22,
   "metadata": {
    "scrolled": false
   },
   "outputs": [
    {
     "data": {
      "text/plain": [
       "<matplotlib.axes._subplots.AxesSubplot at 0x7fc42b99c9b0>"
      ]
     },
     "execution_count": 22,
     "metadata": {},
     "output_type": "execute_result"
    }
   ],
   "source": [
    "df['activity_type'].value_counts().plot(kind='bar')"
   ]
  },
  {
   "cell_type": "code",
   "execution_count": 23,
   "metadata": {},
   "outputs": [],
   "source": [
    "def extract_full_activities(df):\n",
    "    \"\"\"\n",
    "    Flatten the parsed semantic history in the DataFrame to a DataFrame of\n",
    "    activites that start and end at home. Extract meaningful features such that \n",
    "    these activites can be compared to one another.\"\"\"\n",
    "    all_acts = []\n",
    "    act = {}\n",
    "    \n",
    "    for i, row in df.iterrows():\n",
    "        if (row['place'] == 'HOME' and row['duration_minutes'] > 30 and act):\n",
    "            # consider an activity finished if we arrived home and stay there for more than\n",
    "            # half an hour\n",
    "            act['end_date'] = row['start_date']\n",
    "            act['end_time'] = datetime.datetime.time(row['start_date'])\n",
    "            act['end_weekday'] = row['start_date'].weekday()\n",
    "            act['total_minutes'] = elapsed_minutes(act['start_date'],\n",
    "                                                   act['end_date'])\n",
    "            all_acts.append(act)\n",
    "            \n",
    "            # convert route datatimes into minute offsets (relative to total activity minutes)\n",
    "            full_route_mo = []\n",
    "            for rp in act['full_route']:\n",
    "                elapsed = elapsed_minutes(act['start_date'], rp[1])\n",
    "                full_route_mo.append((rp[0], elapsed))\n",
    "                \n",
    "            act['full_route'] = full_route_mo\n",
    "            act = {}\n",
    "        else:\n",
    "            if row['type'] == 'moving':\n",
    "                if 'start_time' not in act:\n",
    "                    act['start_date'] = row['start_date']\n",
    "                    act['start_time'] = datetime.datetime.time(row['start_date'])\n",
    "                    act['start_weekday'] = row['start_date'].weekday()                \n",
    "                act['full_route'] = (\n",
    "                    act.get('full_route', []) + row['route']\n",
    "                )\n",
    "            elif row['type'] == 'visit':\n",
    "                act['visited_places'] = (\n",
    "                    act.get('visited_places', []) + \n",
    "                    [(row['from_point'], row['duration_minutes'])]\n",
    "                )                \n",
    "                act['full_route'] = (\n",
    "                    act.get('full_route', []) + [(row['from_point'],\n",
    "                                                  row['start_date'])]\n",
    "                )\n",
    "            act['moving_by'] = (\n",
    "                act.get('moving_by', []) +\n",
    "                [(row['activity_type'], row['duration_minutes'])]\n",
    "            )\n",
    "                \n",
    "    return pd.DataFrame(all_acts)"
   ]
  },
  {
   "cell_type": "code",
   "execution_count": 24,
   "metadata": {},
   "outputs": [
    {
     "data": {
      "text/html": [
       "<div>\n",
       "<style scoped>\n",
       "    .dataframe tbody tr th:only-of-type {\n",
       "        vertical-align: middle;\n",
       "    }\n",
       "\n",
       "    .dataframe tbody tr th {\n",
       "        vertical-align: top;\n",
       "    }\n",
       "\n",
       "    .dataframe thead th {\n",
       "        text-align: right;\n",
       "    }\n",
       "</style>\n",
       "<table border=\"1\" class=\"dataframe\">\n",
       "  <thead>\n",
       "    <tr style=\"text-align: right;\">\n",
       "      <th></th>\n",
       "      <th>end_date</th>\n",
       "      <th>end_time</th>\n",
       "      <th>end_weekday</th>\n",
       "      <th>full_route</th>\n",
       "      <th>moving_by</th>\n",
       "      <th>start_date</th>\n",
       "      <th>start_time</th>\n",
       "      <th>start_weekday</th>\n",
       "      <th>total_minutes</th>\n",
       "      <th>visited_places</th>\n",
       "    </tr>\n",
       "  </thead>\n",
       "  <tbody>\n",
       "    <tr>\n",
       "      <th>0</th>\n",
       "      <td>2020-05-01 20:22:39.109000+02:00</td>\n",
       "      <td>20:22:39.109000</td>\n",
       "      <td>4</td>\n",
       "      <td>[(POINT (13.2704077 52.4217796), 12), (POINT (...</td>\n",
       "      <td>[(WALKING, 49), (STILL, 12), (WALKING, 29)]</td>\n",
       "      <td>2020-05-01 18:51:01.163000+02:00</td>\n",
       "      <td>18:51:01.163000</td>\n",
       "      <td>4</td>\n",
       "      <td>91</td>\n",
       "      <td>[(POINT (13.2636161 52.4222327), 12)]</td>\n",
       "    </tr>\n",
       "    <tr>\n",
       "      <th>1</th>\n",
       "      <td>2020-05-02 13:17:40.993000+02:00</td>\n",
       "      <td>13:17:40.993000</td>\n",
       "      <td>5</td>\n",
       "      <td>[(POINT (13.2686761 52.4307043), 0), (POINT (1...</td>\n",
       "      <td>[(IN_BUS, 25), (STILL, 54), (WALKING, 25), (ST...</td>\n",
       "      <td>2020-05-02 11:03:52.286000+02:00</td>\n",
       "      <td>11:03:52.286000</td>\n",
       "      <td>5</td>\n",
       "      <td>133</td>\n",
       "      <td>[(POINT (13.21755 52.42948), 54), (POINT (13.2...</td>\n",
       "    </tr>\n",
       "    <tr>\n",
       "      <th>2</th>\n",
       "      <td>2020-05-02 19:08:01.989000+02:00</td>\n",
       "      <td>19:08:01.989000</td>\n",
       "      <td>5</td>\n",
       "      <td>[(POINT (13.2633886 52.4331055), 12), (POINT (...</td>\n",
       "      <td>[(WALKING, 22), (STILL, 31), (WALKING, 25)]</td>\n",
       "      <td>2020-05-02 17:48:50.275000+02:00</td>\n",
       "      <td>17:48:50.275000</td>\n",
       "      <td>5</td>\n",
       "      <td>79</td>\n",
       "      <td>[(POINT (13.2605135 52.4334403), 31)]</td>\n",
       "    </tr>\n",
       "    <tr>\n",
       "      <th>3</th>\n",
       "      <td>2020-05-03 11:17:35.156000+02:00</td>\n",
       "      <td>11:17:35.156000</td>\n",
       "      <td>6</td>\n",
       "      <td>[(POINT (13.263567 52.4322739), 8), (POINT (13...</td>\n",
       "      <td>[(WALKING, 9), (STILL, 6), (IN_PASSENGER_VEHIC...</td>\n",
       "      <td>2020-05-03 09:43:25.133000+02:00</td>\n",
       "      <td>09:43:25.133000</td>\n",
       "      <td>6</td>\n",
       "      <td>94</td>\n",
       "      <td>[(POINT (13.2586675 52.4310979), 6), (POINT (1...</td>\n",
       "    </tr>\n",
       "    <tr>\n",
       "      <th>4</th>\n",
       "      <td>2020-05-03 12:15:03.363000+02:00</td>\n",
       "      <td>12:15:03.363000</td>\n",
       "      <td>6</td>\n",
       "      <td>[(POINT (13.2639236 52.435387), 3)]</td>\n",
       "      <td>[(IN_PASSENGER_VEHICLE, 3), (STILL, 10), (IN_P...</td>\n",
       "      <td>2020-05-03 11:56:03.226000+02:00</td>\n",
       "      <td>11:56:03.226000</td>\n",
       "      <td>6</td>\n",
       "      <td>19</td>\n",
       "      <td>[(POINT (13.2639236 52.435387), 10)]</td>\n",
       "    </tr>\n",
       "  </tbody>\n",
       "</table>\n",
       "</div>"
      ],
      "text/plain": [
       "                          end_date         end_time  end_weekday  \\\n",
       "0 2020-05-01 20:22:39.109000+02:00  20:22:39.109000            4   \n",
       "1 2020-05-02 13:17:40.993000+02:00  13:17:40.993000            5   \n",
       "2 2020-05-02 19:08:01.989000+02:00  19:08:01.989000            5   \n",
       "3 2020-05-03 11:17:35.156000+02:00  11:17:35.156000            6   \n",
       "4 2020-05-03 12:15:03.363000+02:00  12:15:03.363000            6   \n",
       "\n",
       "                                          full_route  \\\n",
       "0  [(POINT (13.2704077 52.4217796), 12), (POINT (...   \n",
       "1  [(POINT (13.2686761 52.4307043), 0), (POINT (1...   \n",
       "2  [(POINT (13.2633886 52.4331055), 12), (POINT (...   \n",
       "3  [(POINT (13.263567 52.4322739), 8), (POINT (13...   \n",
       "4                [(POINT (13.2639236 52.435387), 3)]   \n",
       "\n",
       "                                           moving_by  \\\n",
       "0        [(WALKING, 49), (STILL, 12), (WALKING, 29)]   \n",
       "1  [(IN_BUS, 25), (STILL, 54), (WALKING, 25), (ST...   \n",
       "2        [(WALKING, 22), (STILL, 31), (WALKING, 25)]   \n",
       "3  [(WALKING, 9), (STILL, 6), (IN_PASSENGER_VEHIC...   \n",
       "4  [(IN_PASSENGER_VEHICLE, 3), (STILL, 10), (IN_P...   \n",
       "\n",
       "                        start_date       start_time  start_weekday  \\\n",
       "0 2020-05-01 18:51:01.163000+02:00  18:51:01.163000              4   \n",
       "1 2020-05-02 11:03:52.286000+02:00  11:03:52.286000              5   \n",
       "2 2020-05-02 17:48:50.275000+02:00  17:48:50.275000              5   \n",
       "3 2020-05-03 09:43:25.133000+02:00  09:43:25.133000              6   \n",
       "4 2020-05-03 11:56:03.226000+02:00  11:56:03.226000              6   \n",
       "\n",
       "   total_minutes                                     visited_places  \n",
       "0             91              [(POINT (13.2636161 52.4222327), 12)]  \n",
       "1            133  [(POINT (13.21755 52.42948), 54), (POINT (13.2...  \n",
       "2             79              [(POINT (13.2605135 52.4334403), 31)]  \n",
       "3             94  [(POINT (13.2586675 52.4310979), 6), (POINT (1...  \n",
       "4             19               [(POINT (13.2639236 52.435387), 10)]  "
      ]
     },
     "execution_count": 24,
     "metadata": {},
     "output_type": "execute_result"
    }
   ],
   "source": [
    "f_df = extract_full_activities(df)\n",
    "f_df.head()"
   ]
  },
  {
   "cell_type": "code",
   "execution_count": 25,
   "metadata": {},
   "outputs": [],
   "source": [
    "def interpolate_route(full_route, \n",
    "                      start_point, \n",
    "                      sample_interval_minutes=5):\n",
    "    interpolated_route = []\n",
    "    route_index = 0\n",
    "    minute_index = sample_interval_minutes\n",
    "    \n",
    "    while route_index < len(full_route):\n",
    "        if full_route[route_index][1] < minute_index:\n",
    "            # look for the first sampled point in the path\n",
    "            # which is ahead in time of the curren time point to sample\n",
    "            route_index += 1\n",
    "            continue\n",
    "        \n",
    "        # interpolate location\n",
    "        prev_loc = start_point if route_index == 0 else full_route[route_index - 1][0]\n",
    "        curr_loc = full_route[route_index][0]\n",
    "        \n",
    "        prev_mins_off = 0 if route_index == 0 else full_route[route_index - 1][1]\n",
    "        curr_mins_off = full_route[route_index][1]\n",
    "        \n",
    "        diff_mins = curr_mins_off - prev_mins_off\n",
    "        diff_mins_int = minute_index - prev_mins_off\n",
    "        \n",
    "        int_loc_x = prev_loc.x + ((curr_loc.x - prev_loc.x) / diff_mins) * diff_mins_int\n",
    "        int_loc_y = prev_loc.y + ((curr_loc.y - prev_loc.y) / diff_mins) * diff_mins_int\n",
    "        \n",
    "        interpolated_route.append((sg.Point(int_loc_x,\n",
    "                                            int_loc_y),\n",
    "                                   minute_index))\n",
    "        minute_index += sample_interval_minutes\n",
    "                                  \n",
    "    return interpolated_route"
   ]
  },
  {
   "cell_type": "markdown",
   "metadata": {},
   "source": [
    "## Debug code here"
   ]
  },
  {
   "cell_type": "code",
   "execution_count": 26,
   "metadata": {},
   "outputs": [],
   "source": [
    "DEBUG_ROUTE=2\n",
    "START_POINT=sg.Point(13.2698764, 52.4306325)"
   ]
  },
  {
   "cell_type": "code",
   "execution_count": 27,
   "metadata": {},
   "outputs": [
    {
     "data": {
      "text/plain": [
       "[(<shapely.geometry.point.Point at 0x7fc4296866a0>, 5),\n",
       " (<shapely.geometry.point.Point at 0x7fc429686080>, 10),\n",
       " (<shapely.geometry.point.Point at 0x7fc429686668>, 15),\n",
       " (<shapely.geometry.point.Point at 0x7fc460c0cf28>, 20),\n",
       " (<shapely.geometry.point.Point at 0x7fc4296860b8>, 25),\n",
       " (<shapely.geometry.point.Point at 0x7fc429686128>, 30),\n",
       " (<shapely.geometry.point.Point at 0x7fc4296867b8>, 35),\n",
       " (<shapely.geometry.point.Point at 0x7fc429686160>, 40),\n",
       " (<shapely.geometry.point.Point at 0x7fc4296868d0>, 45),\n",
       " (<shapely.geometry.point.Point at 0x7fc429686cc0>, 50),\n",
       " (<shapely.geometry.point.Point at 0x7fc429686240>, 55),\n",
       " (<shapely.geometry.point.Point at 0x7fc429686208>, 60),\n",
       " (<shapely.geometry.point.Point at 0x7fc429686c50>, 65)]"
      ]
     },
     "execution_count": 27,
     "metadata": {},
     "output_type": "execute_result"
    }
   ],
   "source": [
    "interpolate_route(f_df.iloc[DEBUG_ROUTE, ]['full_route'], start_point=START_POINT)"
   ]
  },
  {
   "cell_type": "code",
   "execution_count": 28,
   "metadata": {},
   "outputs": [],
   "source": [
    "gmaps_routes = []\n",
    "\n",
    "for i, row in f_df.iterrows():\n",
    "    lat_lng_matrix = [[rp[0].y, rp[0].x] for rp in interpolate_route(row['full_route'],\n",
    "                                                                     start_point=START_POINT)]\n",
    "    gmaps_routes.append(lat_lng_matrix)"
   ]
  },
  {
   "cell_type": "code",
   "execution_count": 29,
   "metadata": {},
   "outputs": [
    {
     "data": {
      "text/plain": [
       "[(<shapely.geometry.point.Point at 0x7fc42db7e6a0>, 12),\n",
       " (<shapely.geometry.point.Point at 0x7fc42db7e2e8>, 22),\n",
       " (<shapely.geometry.point.Point at 0x7fc42db7e320>, 63),\n",
       " (<shapely.geometry.point.Point at 0x7fc42db7e400>, 68)]"
      ]
     },
     "execution_count": 29,
     "metadata": {},
     "output_type": "execute_result"
    }
   ],
   "source": [
    "f_df.iloc[DEBUG_ROUTE, ]['full_route']"
   ]
  },
  {
   "cell_type": "code",
   "execution_count": 30,
   "metadata": {},
   "outputs": [
    {
     "data": {
      "text/plain": [
       "end_date                           2020-05-02 19:08:01.989000+02:00\n",
       "end_time                                            19:08:01.989000\n",
       "end_weekday                                                       5\n",
       "full_route        [(POINT (13.2633886 52.4331055), 12), (POINT (...\n",
       "moving_by               [(WALKING, 22), (STILL, 31), (WALKING, 25)]\n",
       "start_date                         2020-05-02 17:48:50.275000+02:00\n",
       "start_time                                          17:48:50.275000\n",
       "start_weekday                                                     5\n",
       "total_minutes                                                    79\n",
       "visited_places                [(POINT (13.2605135 52.4334403), 31)]\n",
       "Name: 2, dtype: object"
      ]
     },
     "execution_count": 30,
     "metadata": {},
     "output_type": "execute_result"
    }
   ],
   "source": [
    "f_df.iloc[DEBUG_ROUTE, ]"
   ]
  },
  {
   "cell_type": "code",
   "execution_count": 31,
   "metadata": {},
   "outputs": [
    {
     "data": {
      "text/plain": [
       "[[52.43166291666667, 13.26717315],\n",
       " [52.43269333333333, 13.2644699],\n",
       " [52.43320594, 13.26252607],\n",
       " [52.43337334, 13.26108852],\n",
       " [52.43350484390244, 13.260619970731707],\n",
       " [52.43361241707317, 13.260797421951219],\n",
       " [52.4337199902439, 13.260974873170731],\n",
       " [52.43382756341463, 13.261152324390244],\n",
       " [52.43393513658537, 13.261329775609756],\n",
       " [52.4340427097561, 13.261507226829268],\n",
       " [52.43415028292683, 13.26168467804878],\n",
       " [52.43425785609756, 13.261862129268293],\n",
       " [52.43359148, 13.262813959999999]]"
      ]
     },
     "execution_count": 31,
     "metadata": {},
     "output_type": "execute_result"
    }
   ],
   "source": [
    "gmaps_routes[DEBUG_ROUTE]"
   ]
  },
  {
   "cell_type": "code",
   "execution_count": 32,
   "metadata": {
    "scrolled": true
   },
   "outputs": [
    {
     "data": {
      "application/vnd.jupyter.widget-view+json": {
       "model_id": "66b7d3ac44df4edb89fa0b464502249c",
       "version_major": 2,
       "version_minor": 0
      },
      "text/plain": [
       "Figure(layout=FigureLayout(height='420px'))"
      ]
     },
     "metadata": {},
     "output_type": "display_data"
    }
   ],
   "source": [
    "import gmaps\n",
    "import gmaps.datasets\n",
    "import os\n",
    "\n",
    "gmaps.configure(api_key=os.environ.get(\"GOOGLE_API_KEY\")) # Your Google API key\n",
    "\n",
    "#layer = gmaps.symbol_layer(\n",
    "#    df[['latitude', 'longitude']], fill_color=\"green\", stroke_color=\"green\"\n",
    "#)\n",
    "\n",
    "layer = gmaps.symbol_layer(gmaps_routes[DEBUG_ROUTE])\n",
    "fig = gmaps.figure()\n",
    "fig.add_layer(layer)\n",
    "fig"
   ]
  },
  {
   "cell_type": "code",
   "execution_count": null,
   "metadata": {},
   "outputs": [],
   "source": []
  }
 ],
 "metadata": {
  "kernelspec": {
   "display_name": "Python 3",
   "language": "python",
   "name": "python3"
  },
  "language_info": {
   "codemirror_mode": {
    "name": "ipython",
    "version": 3
   },
   "file_extension": ".py",
   "mimetype": "text/x-python",
   "name": "python",
   "nbconvert_exporter": "python",
   "pygments_lexer": "ipython3",
   "version": "3.6.9"
  }
 },
 "nbformat": 4,
 "nbformat_minor": 2
}
