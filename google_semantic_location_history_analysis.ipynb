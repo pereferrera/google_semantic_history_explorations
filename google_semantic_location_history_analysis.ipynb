{
 "cells": [
  {
   "cell_type": "code",
   "execution_count": 1,
   "metadata": {
    "scrolled": true
   },
   "outputs": [],
   "source": [
    "LOCATION_HISTORY_FILE='/home/pere/Semantic_Location_History/2020/2020_MAY.json'\n",
    "TIME_ZONE='Europe/Berlin'"
   ]
  },
  {
   "cell_type": "code",
   "execution_count": 133,
   "metadata": {
    "scrolled": true
   },
   "outputs": [],
   "source": [
    "import json\n",
    "import datetime\n",
    "\n",
    "import shapely.geometry as sg\n",
    "import pandas as pd\n",
    "import geopandas as gp\n",
    "from matplotlib import cm\n",
    "import numpy as np\n",
    "import scipy as sp"
   ]
  },
  {
   "cell_type": "code",
   "execution_count": 3,
   "metadata": {
    "scrolled": true
   },
   "outputs": [],
   "source": [
    "history = json.load(open(LOCATION_HISTORY_FILE))"
   ]
  },
  {
   "cell_type": "code",
   "execution_count": 4,
   "metadata": {
    "scrolled": true
   },
   "outputs": [
    {
     "data": {
      "text/plain": [
       "54"
      ]
     },
     "execution_count": 4,
     "metadata": {},
     "output_type": "execute_result"
    }
   ],
   "source": [
    "len(history['timelineObjects'])"
   ]
  },
  {
   "cell_type": "markdown",
   "metadata": {},
   "source": [
    "## 1 - Convert semantic history into a DataFrame and do some exploratory data analysis on it"
   ]
  },
  {
   "cell_type": "code",
   "execution_count": 5,
   "metadata": {
    "scrolled": true
   },
   "outputs": [],
   "source": [
    "def get_point(obj):\n",
    "    \"\"\"\n",
    "    Returns a shapely.geometry.Point from an object that has the\n",
    "    attributes \"longitudeE7\" and \"latitudeE7\"\n",
    "    \"\"\"\n",
    "    return sg.Point(obj[\"longitudeE7\"] / 10000000,\n",
    "                    obj[\"latitudeE7\"] / 10000000)"
   ]
  },
  {
   "cell_type": "code",
   "execution_count": 6,
   "metadata": {},
   "outputs": [],
   "source": [
    "def to_datetime_tz(ms):\n",
    "    return pd.to_datetime(ms, unit='ms').tz_localize('UTC').tz_convert(TIME_ZONE)"
   ]
  },
  {
   "cell_type": "code",
   "execution_count": 7,
   "metadata": {},
   "outputs": [],
   "source": [
    "def get_raw_path_point(obj):\n",
    "    \"\"\"\n",
    "    Returns a tuple with a shapely.geometry.Point and a datetime, \n",
    "    corresponding to a point in a sampled time-path e.g. what you can\n",
    "    find in 'simplifiedRawPath' in 'activitySegment' objects\n",
    "    \"\"\"\n",
    "    return (\n",
    "        sg.Point(obj[\"lngE7\"] / 10000000,\n",
    "                 obj[\"latE7\"] / 10000000),\n",
    "        to_datetime_tz(obj['timestampMs'])\n",
    "    )"
   ]
  },
  {
   "cell_type": "code",
   "execution_count": 8,
   "metadata": {},
   "outputs": [],
   "source": [
    "def calc_duration_minutes(duration_obj):\n",
    "    \"\"\" return the minutes from the difference in the object below:\n",
    "    \n",
    "      \"duration\" : {\n",
    "         \"startTimestampMs\" : \"1585739488388\",\n",
    "         \"endTimestampMs\" : \"1585759177100\"\n",
    "      }    \n",
    "    \"\"\"\n",
    "    return int((int(duration_obj['endTimestampMs']) - \n",
    "                int(duration_obj['startTimestampMs'])) / 1000 / 60)"
   ]
  },
  {
   "cell_type": "code",
   "execution_count": 9,
   "metadata": {},
   "outputs": [],
   "source": [
    "def elapsed_minutes(start_date, end_date):\n",
    "    \"\"\"Calculate integer elapsed minutes from two datetimes\"\"\"\n",
    "    elapsed_time = end_date - start_date\n",
    "    return int(\n",
    "        divmod(elapsed_time.total_seconds(), 60)[0]\n",
    "    )"
   ]
  },
  {
   "cell_type": "code",
   "execution_count": 10,
   "metadata": {
    "scrolled": true
   },
   "outputs": [],
   "source": [
    "def semantic_history_to_df(history):\n",
    "    \"\"\"\n",
    "    Returns a pandas DataFrame from a semantic history JSON array.\n",
    "    Unifies the most important information into a flat schema.\n",
    "    \n",
    "    Parameters\n",
    "    ----------\n",
    "    history: \n",
    "        ...\n",
    "        \n",
    "    Returns\n",
    "    -------\n",
    "    DataFrame\n",
    "        ...\n",
    "    \"\"\"\n",
    "    parsed_objs = []\n",
    "    \n",
    "    for obj in history['timelineObjects']:\n",
    "        parsed_obj = {\n",
    "        }\n",
    "        if 'activitySegment' in obj:\n",
    "            # activity properties\n",
    "            parsed_obj.update({\n",
    "                  'type': 'moving',\n",
    "                  'activity_type': obj['activitySegment']['activityType'],\n",
    "                  'place': 'MOVING',\n",
    "                  'from_point': get_point(obj['activitySegment']['startLocation']),\n",
    "                  'route': [get_raw_path_point(p) for p in \n",
    "                            obj['activitySegment']\n",
    "                            .get('simplifiedRawPath', {})\n",
    "                            .get('points', [])]\n",
    "            })\n",
    "            duration_obj = obj['activitySegment']['duration']\n",
    "        elif 'placeVisit' in obj:\n",
    "            # place visit properties\n",
    "            parsed_obj.update({\n",
    "                  'type': 'visit',\n",
    "                  'place': (\n",
    "                      'HOME' if obj['placeVisit']['location']\n",
    "                                 .get('semanticType', '') == 'TYPE_HOME'\n",
    "                             else obj['placeVisit']['location']['placeId']\n",
    "                  ),\n",
    "                  # if I'm visiting a place then I'd say I'm still?\n",
    "                  'activity_type': 'STILL',\n",
    "                  'from_point': get_point(obj['placeVisit']['location']),\n",
    "                  'route': []\n",
    "            })\n",
    "            duration_obj = obj['placeVisit']['duration']\n",
    "        else:\n",
    "            # let me know if I missed something!\n",
    "            raise Exception('Unknown timeline object: {}'.format(obj))\n",
    "\n",
    "        # common properties\n",
    "        parsed_obj.update({\n",
    "            'start_date': to_datetime_tz(duration_obj['startTimestampMs']),\n",
    "            'end_date': to_datetime_tz(duration_obj['endTimestampMs']),\n",
    "            'duration_minutes': calc_duration_minutes(duration_obj),\n",
    "            'latitude': parsed_obj['from_point'].y,\n",
    "            'longitude': parsed_obj['from_point'].x,\n",
    "        })\n",
    "        \n",
    "        parsed_objs.append(parsed_obj)\n",
    "            \n",
    "    df = pd.DataFrame(parsed_objs)\n",
    "    \n",
    "    return df"
   ]
  },
  {
   "cell_type": "code",
   "execution_count": 11,
   "metadata": {
    "scrolled": true
   },
   "outputs": [],
   "source": [
    "df = semantic_history_to_df(history)"
   ]
  },
  {
   "cell_type": "code",
   "execution_count": 20,
   "metadata": {
    "scrolled": false
   },
   "outputs": [
    {
     "data": {
      "text/html": [
       "<div>\n",
       "<style scoped>\n",
       "    .dataframe tbody tr th:only-of-type {\n",
       "        vertical-align: middle;\n",
       "    }\n",
       "\n",
       "    .dataframe tbody tr th {\n",
       "        vertical-align: top;\n",
       "    }\n",
       "\n",
       "    .dataframe thead th {\n",
       "        text-align: right;\n",
       "    }\n",
       "</style>\n",
       "<table border=\"1\" class=\"dataframe\">\n",
       "  <thead>\n",
       "    <tr style=\"text-align: right;\">\n",
       "      <th></th>\n",
       "      <th>activity_type</th>\n",
       "      <th>duration_minutes</th>\n",
       "      <th>end_date</th>\n",
       "      <th>from_point</th>\n",
       "      <th>latitude</th>\n",
       "      <th>longitude</th>\n",
       "      <th>place</th>\n",
       "      <th>route</th>\n",
       "      <th>start_date</th>\n",
       "      <th>type</th>\n",
       "    </tr>\n",
       "  </thead>\n",
       "  <tbody>\n",
       "    <tr>\n",
       "      <th>0</th>\n",
       "      <td>WALKING</td>\n",
       "      <td>49</td>\n",
       "      <td>2020-05-01 19:40:05.967000+02:00</td>\n",
       "      <td>POINT (13.2707059 52.4300337)</td>\n",
       "      <td>52.430034</td>\n",
       "      <td>13.270706</td>\n",
       "      <td>MOVING</td>\n",
       "      <td>[(POINT (13.2704077 52.4217796), 2020-05-01 19...</td>\n",
       "      <td>2020-05-01 18:51:01.163000+02:00</td>\n",
       "      <td>moving</td>\n",
       "    </tr>\n",
       "  </tbody>\n",
       "</table>\n",
       "</div>"
      ],
      "text/plain": [
       "  activity_type  duration_minutes                         end_date  \\\n",
       "0       WALKING                49 2020-05-01 19:40:05.967000+02:00   \n",
       "\n",
       "                      from_point   latitude  longitude   place  \\\n",
       "0  POINT (13.2707059 52.4300337)  52.430034  13.270706  MOVING   \n",
       "\n",
       "                                               route  \\\n",
       "0  [(POINT (13.2704077 52.4217796), 2020-05-01 19...   \n",
       "\n",
       "                        start_date    type  \n",
       "0 2020-05-01 18:51:01.163000+02:00  moving  "
      ]
     },
     "execution_count": 20,
     "metadata": {},
     "output_type": "execute_result"
    }
   ],
   "source": [
    "df.head(1)"
   ]
  },
  {
   "cell_type": "code",
   "execution_count": 21,
   "metadata": {
    "scrolled": false
   },
   "outputs": [
    {
     "data": {
      "text/plain": [
       "<matplotlib.axes._subplots.AxesSubplot at 0x7f0af8495e10>"
      ]
     },
     "execution_count": 21,
     "metadata": {},
     "output_type": "execute_result"
    },
    {
     "data": {
      "image/png": "[encoded data removed]",
      "text/plain": [
       "<Figure size 432x288 with 1 Axes>"
      ]
     },
     "metadata": {
      "needs_background": "light"
     },
     "output_type": "display_data"
    }
   ],
   "source": [
    "df['activity_type'].value_counts().plot(kind='bar')"
   ]
  },
  {
   "cell_type": "markdown",
   "metadata": {},
   "source": [
    "## 2 - Convert exploratory DataFrame into a ML-ready representation for clustering"
   ]
  },
  {
   "cell_type": "code",
   "execution_count": 50,
   "metadata": {},
   "outputs": [],
   "source": [
    "def interpolate_route(full_route, \n",
    "                      start_point, \n",
    "                      sample_interval_minutes):\n",
    "    \"\"\"\n",
    "    Parameters\n",
    "    ----------\n",
    "    full_route: list\n",
    "        A list of tuples (Point, int) describing geographic locations\n",
    "        and minute offsets\n",
    "    start_point: Point\n",
    "        origin of the route at minute offset=0\n",
    "    sample_interval_minutes: int\n",
    "        Tells this function to interpolate a route at this fixed time interval\n",
    "    \n",
    "    Return\n",
    "    ------\n",
    "    list: \n",
    "        A list of tuples (Point, int) extended from the input route\n",
    "        interpolated at a fixed time interval given by sample_interval_minutes\n",
    "    \n",
    "    \"\"\"\n",
    "    interpolated_route = []\n",
    "    route_index = 0\n",
    "    minute_index = sample_interval_minutes\n",
    "    \n",
    "    while route_index < len(full_route):\n",
    "        if full_route[route_index][1] < minute_index:\n",
    "            # look for the first sampled point in the path\n",
    "            # which is ahead in time of the curren time point to sample\n",
    "            route_index += 1\n",
    "            continue\n",
    "        \n",
    "        # interpolate location\n",
    "        prev_loc = start_point if route_index == 0 else full_route[route_index - 1][0]\n",
    "        curr_loc = full_route[route_index][0]\n",
    "        \n",
    "        prev_mins_off = 0 if route_index == 0 else full_route[route_index - 1][1]\n",
    "        curr_mins_off = full_route[route_index][1]\n",
    "        \n",
    "        diff_mins = curr_mins_off - prev_mins_off\n",
    "        diff_mins_int = minute_index - prev_mins_off\n",
    "        \n",
    "        int_loc_x = prev_loc.x + ((curr_loc.x - prev_loc.x) / diff_mins) * diff_mins_int\n",
    "        int_loc_y = prev_loc.y + ((curr_loc.y - prev_loc.y) / diff_mins) * diff_mins_int\n",
    "        \n",
    "        interpolated_route.append((sg.Point(int_loc_x,\n",
    "                                            int_loc_y),\n",
    "                                   minute_index))\n",
    "        minute_index += sample_interval_minutes\n",
    "                                  \n",
    "    return interpolated_route"
   ]
  },
  {
   "cell_type": "code",
   "execution_count": 81,
   "metadata": {},
   "outputs": [],
   "source": [
    "def extract_full_activities(df,\n",
    "                            sample_interval_minutes):\n",
    "    \"\"\"\n",
    "    Flatten the parsed semantic history in the DataFrame to a DataFrame of\n",
    "    activites that start and end at home. Extract meaningful features such that \n",
    "    these activites can be compared to one another.\n",
    "    \n",
    "    Parameters\n",
    "    ----------\n",
    "    df: DataFrame given by `semantic_history_to_df`\n",
    "        ...\n",
    "    sample_interval_minutes: int\n",
    "        Will interpolate full routes by sampling a geographic point every 'x' minutes\n",
    "\n",
    "    Returns\n",
    "    -------\n",
    "    DataFrame\n",
    "        Columns:\n",
    "            start_date: datetime.date\n",
    "            start_time: datetime.time\n",
    "            end_date: datetime.date\n",
    "            end_time: datetime.time\n",
    "            start_weekday: int:\n",
    "                ordinal ISO weekday (1-7)\n",
    "            end_weekday: int: \n",
    "                ordinal ISO weekday (1-7)\n",
    "            total_minutes: int\n",
    "            full_route: list((Point, int)): \n",
    "                Interpolated route at a fixed time interval\n",
    "            moving_by: list((str, int)):\n",
    "                distinct ways of moving and minute offset relative to route\n",
    "            visited_places: list((Point, int)):\n",
    "                distinct places visited according to Google, and minute offset relative to route\n",
    "    \"\"\"\n",
    "    all_acts = []\n",
    "    act = {}\n",
    "    \n",
    "    for i, row in df.iterrows():\n",
    "        if (row['place'] == 'HOME' and row['duration_minutes'] > 30 and act):\n",
    "            # consider an activity finished if we arrived home and stay there for more than\n",
    "            # half an hour\n",
    "            act['end_date'] = row['start_date']\n",
    "            act['end_time'] = datetime.datetime.time(row['start_date']).replace(second=0,\n",
    "                                                                                microsecond=0)\n",
    "            act['end_weekday'] = row['start_date'].isoweekday()\n",
    "            act['total_minutes'] = elapsed_minutes(act['start_date'],\n",
    "                                                   act['end_date'])\n",
    "            \n",
    "            # convert route datatimes into minute offsets (relative to total activity minutes)\n",
    "            full_route_mo = []\n",
    "            for rp in act['full_route']:\n",
    "                elapsed = elapsed_minutes(act['start_date'], rp[1])\n",
    "                # make a route as a list of tuples (Point, int) where \n",
    "                # the second element is the minute offset\n",
    "                full_route_mo.append((rp[0], elapsed))\n",
    "                \n",
    "            # interpolate the route to a fixed time interval such that we can\n",
    "            # compare two different routes\n",
    "            act['full_route'] = interpolate_route(full_route_mo, \n",
    "                                                  start_point=row['from_point'],\n",
    "                                                  sample_interval_minutes=sample_interval_minutes)\n",
    "            act['end_date'] = datetime.datetime.date(row['end_date'])\n",
    "            act['start_date'] = datetime.datetime.date(row['start_date'])\n",
    "\n",
    "            if len(act['full_route']) == 0:\n",
    "                print('Skipping activity with no route.')\n",
    "                act = {}\n",
    "                continue\n",
    "\n",
    "            all_acts.append(act)\n",
    "            act = {}\n",
    "        else:\n",
    "            if row['type'] == 'moving':\n",
    "                if 'start_time' not in act:\n",
    "                    act['start_date'] = row['start_date']\n",
    "                    act['start_time'] = datetime.datetime.time(row['start_date']).replace(second=0,\n",
    "                                                                                          microsecond=0)\n",
    "                    act['start_weekday'] = row['start_date'].weekday()                \n",
    "                act['full_route'] = (\n",
    "                    act.get('full_route', []) + row['route']\n",
    "                )\n",
    "            elif row['type'] == 'visit':\n",
    "                act['visited_places'] = (\n",
    "                    act.get('visited_places', []) + \n",
    "                    [(row['from_point'], row['duration_minutes'])]\n",
    "                )                \n",
    "                act['full_route'] = (\n",
    "                    act.get('full_route', []) + [(row['from_point'],\n",
    "                                                  row['start_date'])]\n",
    "                )\n",
    "            act['moving_by'] = (\n",
    "                act.get('moving_by', []) +\n",
    "                [(row['activity_type'], row['duration_minutes'])]\n",
    "            )\n",
    "                \n",
    "    return pd.DataFrame(all_acts)"
   ]
  },
  {
   "cell_type": "code",
   "execution_count": 82,
   "metadata": {},
   "outputs": [],
   "source": [
    "MAX_ROUTE_DURATION = 6*60\n",
    "INTERPOLATED_INTERVAL = 5"
   ]
  },
  {
   "cell_type": "code",
   "execution_count": 83,
   "metadata": {},
   "outputs": [
    {
     "name": "stdout",
     "output_type": "stream",
     "text": [
      "Skipping activity with no route.\n"
     ]
    },
    {
     "data": {
      "text/html": [
       "<div>\n",
       "<style scoped>\n",
       "    .dataframe tbody tr th:only-of-type {\n",
       "        vertical-align: middle;\n",
       "    }\n",
       "\n",
       "    .dataframe tbody tr th {\n",
       "        vertical-align: top;\n",
       "    }\n",
       "\n",
       "    .dataframe thead th {\n",
       "        text-align: right;\n",
       "    }\n",
       "</style>\n",
       "<table border=\"1\" class=\"dataframe\">\n",
       "  <thead>\n",
       "    <tr style=\"text-align: right;\">\n",
       "      <th></th>\n",
       "      <th>end_date</th>\n",
       "      <th>end_time</th>\n",
       "      <th>end_weekday</th>\n",
       "      <th>full_route</th>\n",
       "      <th>moving_by</th>\n",
       "      <th>start_date</th>\n",
       "      <th>start_time</th>\n",
       "      <th>start_weekday</th>\n",
       "      <th>total_minutes</th>\n",
       "      <th>visited_places</th>\n",
       "    </tr>\n",
       "  </thead>\n",
       "  <tbody>\n",
       "    <tr>\n",
       "      <th>0</th>\n",
       "      <td>2020-05-02</td>\n",
       "      <td>20:22:00</td>\n",
       "      <td>5</td>\n",
       "      <td>[(POINT (13.270097775 52.42694379166667), 5), ...</td>\n",
       "      <td>[(WALKING, 49), (STILL, 12), (WALKING, 29)]</td>\n",
       "      <td>2020-05-01</td>\n",
       "      <td>18:51:00</td>\n",
       "      <td>4</td>\n",
       "      <td>91</td>\n",
       "      <td>[(POINT (13.2636161 52.4222327), 12)]</td>\n",
       "    </tr>\n",
       "  </tbody>\n",
       "</table>\n",
       "</div>"
      ],
      "text/plain": [
       "     end_date  end_time  end_weekday  \\\n",
       "0  2020-05-02  20:22:00            5   \n",
       "\n",
       "                                          full_route  \\\n",
       "0  [(POINT (13.270097775 52.42694379166667), 5), ...   \n",
       "\n",
       "                                     moving_by  start_date start_time  \\\n",
       "0  [(WALKING, 49), (STILL, 12), (WALKING, 29)]  2020-05-01   18:51:00   \n",
       "\n",
       "   start_weekday  total_minutes                         visited_places  \n",
       "0              4             91  [(POINT (13.2636161 52.4222327), 12)]  "
      ]
     },
     "execution_count": 83,
     "metadata": {},
     "output_type": "execute_result"
    }
   ],
   "source": [
    "f_df = extract_full_activities(df, sample_interval_minutes=INTERPOLATED_INTERVAL)\n",
    "f_df.head(1)"
   ]
  },
  {
   "cell_type": "code",
   "execution_count": 119,
   "metadata": {},
   "outputs": [],
   "source": [
    "# TODO This is too coupled with the constants above\n",
    "\n",
    "def to_ml_vector_list(full_activities_df):\n",
    "    \"\"\"\n",
    "    Converts a DataFrame returned by `extract_full_activities` into a list(list()) of numeric\n",
    "    features that can be fed to any ML algorithm.    \n",
    "    \"\"\"\n",
    "    ml_vector_list = []\n",
    "    for i, row in full_activities_df.iterrows():\n",
    "        if row['total_minutes'] > MAX_ROUTE_DURATION:\n",
    "            print('Skipping route bigger than MAX_ROUTE_DURATION ({})'.format(row['total_minutes']))\n",
    "            continue\n",
    "        if row['end_weekday'] != row['start_weekday']:\n",
    "            print('Skipping route that spawned overnight (ISO weekdays {} to {})'\n",
    "                  .format(row['start_weekday'],\n",
    "                          row['end_weekday']))\n",
    "        features = {\n",
    "            'total_minutes': row['total_minutes']\n",
    "        }\n",
    "        for weekday in range(1, 7):\n",
    "            features['weekday_{}'.format(weekday)] = (\n",
    "                1 if row['start_weekday'] == weekday else 0 \n",
    "            )\n",
    "            features['weekday_workweek'] = (\n",
    "                1 if row['start_weekday'] < 6 else 0 \n",
    "            )\n",
    "            features['weekday_weekend'] = (\n",
    "                1 if row['start_weekday'] >= 6 else 0 \n",
    "            )\n",
    "        for index, minutes in enumerate(range(INTERPOLATED_INTERVAL, \n",
    "                                              MAX_ROUTE_DURATION, \n",
    "                                              INTERPOLATED_INTERVAL)):\n",
    "            time_position = (\n",
    "                row['full_route'][index] if index < len(row['full_route'])\n",
    "                else row['full_route'][-1]\n",
    "            )\n",
    "            if index < len(row['full_route']):\n",
    "                # asserts that we're sampling the route in the same way\n",
    "                # as the route was interpolated (see enumerate loop above)\n",
    "                assert minutes == time_position[1]\n",
    "            features['x_{}'.format(minutes)] = time_position[0].x\n",
    "            features['y_{}'.format(minutes)] = time_position[0].y\n",
    "        # convert the key -> value representation into a flat array\n",
    "        # where the position has the same meaning in all cases\n",
    "        ml_vector_list.append(np.array([i[1] for i in sorted(features.items())]))\n",
    "    return np.array(ml_vector_list)"
   ]
  },
  {
   "cell_type": "code",
   "execution_count": 120,
   "metadata": {},
   "outputs": [
    {
     "name": "stdout",
     "output_type": "stream",
     "text": [
      "Skipping route that spawned overnight (ISO weekdays 4 to 5)\n",
      "Skipping route that spawned overnight (ISO weekdays 5 to 6)\n",
      "Skipping route that spawned overnight (ISO weekdays 5 to 6)\n",
      "Skipping route that spawned overnight (ISO weekdays 6 to 7)\n",
      "Skipping route that spawned overnight (ISO weekdays 6 to 7)\n",
      "Skipping route that spawned overnight (ISO weekdays 0 to 1)\n",
      "Skipping route that spawned overnight (ISO weekdays 0 to 1)\n",
      "Skipping route that spawned overnight (ISO weekdays 1 to 2)\n",
      "Skipping route that spawned overnight (ISO weekdays 2 to 3)\n",
      "Skipping route that spawned overnight (ISO weekdays 3 to 4)\n"
     ]
    }
   ],
   "source": [
    "ml_vector_list = to_ml_vector_list(f_df)\n",
    "n_features = len(ml_vector_list[0])\n",
    "\n",
    "# assert that all vectors have the same number of features\n",
    "for v in ml_vector_list:\n",
    "    assert len(v) == n_features"
   ]
  },
  {
   "cell_type": "markdown",
   "metadata": {},
   "source": [
    "## 3 - Try some clustering algorithms and visualize results"
   ]
  },
  {
   "cell_type": "code",
   "execution_count": 121,
   "metadata": {},
   "outputs": [],
   "source": [
    "from sklearn.cluster import DBSCAN\n",
    "from sklearn.metrics import pairwise_distances"
   ]
  },
  {
   "cell_type": "code",
   "execution_count": 122,
   "metadata": {},
   "outputs": [
    {
     "data": {
      "text/plain": [
       "0.0"
      ]
     },
     "execution_count": 122,
     "metadata": {},
     "output_type": "execute_result"
    }
   ],
   "source": [
    "np.linalg.norm(ml_vector_list[0] - ml_vector_list[0])"
   ]
  },
  {
   "cell_type": "code",
   "execution_count": 132,
   "metadata": {},
   "outputs": [],
   "source": [
    "# Calculate a distance distribution between the elements to get an idea of appropriate parameters\n",
    "# for the clustering algorithm\n",
    "distance_distribution = np.trim_zeros(\n",
    "    np.unique(\n",
    "        np.tril(\n",
    "            pairwise_distances(ml_vector_list, metric='euclidean')\n",
    "        )\n",
    "    )\n",
    ")"
   ]
  },
  {
   "cell_type": "code",
   "execution_count": 135,
   "metadata": {},
   "outputs": [
    {
     "data": {
      "text/plain": [
       "DescribeResult(nobs=45, minmax=(3.691666301270348, 183.00201865291245), mean=69.89208709678672, variance=2083.1085916231627, skewness=0.6343778171347668, kurtosis=-0.37948471354996505)"
      ]
     },
     "execution_count": 135,
     "metadata": {},
     "output_type": "execute_result"
    }
   ],
   "source": [
    "sp.stats.describe(distance_distribution)"
   ]
  },
  {
   "cell_type": "code",
   "execution_count": 144,
   "metadata": {},
   "outputs": [],
   "source": [
    "# by now take the 20 percentile\n",
    "# but something more sophisticated could be done: https://www.datanovia.com/en/lessons/dbscan-density-based-clustering-essentials/#method-for-determining-the-optimal-eps-value\n",
    "eps = np.percentile(distance_distribution, 20)"
   ]
  },
  {
   "cell_type": "code",
   "execution_count": 173,
   "metadata": {},
   "outputs": [
    {
     "data": {
      "text/plain": [
       "array([0, 1, 0, 0, 2, 2, 0, 0, 1, 0])"
      ]
     },
     "execution_count": 173,
     "metadata": {},
     "output_type": "execute_result"
    }
   ],
   "source": [
    "clustering = DBSCAN(eps, min_samples=1).fit(ml_vector_list)\n",
    "clustering.labels_"
   ]
  },
  {
   "cell_type": "markdown",
   "metadata": {},
   "source": [
    "## Debug code here"
   ]
  },
  {
   "cell_type": "code",
   "execution_count": 156,
   "metadata": {},
   "outputs": [],
   "source": [
    "# TODO Some more coupling here\n",
    "TIME_POINTS = len(range(INTERPOLATED_INTERVAL, \n",
    "                        MAX_ROUTE_DURATION, \n",
    "                        INTERPOLATED_INTERVAL))"
   ]
  },
  {
   "cell_type": "code",
   "execution_count": 157,
   "metadata": {},
   "outputs": [],
   "source": [
    "X_STARTS_AT=9\n",
    "Y_STARTS_AT=X_STARTS_AT + TIME_POINTS"
   ]
  },
  {
   "cell_type": "code",
   "execution_count": 158,
   "metadata": {},
   "outputs": [],
   "source": [
    "gmaps_routes = []\n",
    "\n",
    "for v in ml_vector_list:\n",
    "    lat_lng_matrix = [[v[Y_STARTS_AT + tp], \n",
    "                       v[X_STARTS_AT + tp]] for tp in range(0, TIME_POINTS)]\n",
    "    gmaps_routes.append(lat_lng_matrix)"
   ]
  },
  {
   "cell_type": "code",
   "execution_count": 169,
   "metadata": {
    "scrolled": true
   },
   "outputs": [],
   "source": [
    "import gmaps\n",
    "import gmaps.datasets\n",
    "import os\n",
    "\n",
    "gmaps.configure(api_key=os.environ.get(\"GOOGLE_API_KEY\")) # Your Google API key\n",
    "\n",
    "def display_route(route_index):\n",
    "    layer = gmaps.symbol_layer(gmaps_routes[route_index])\n",
    "    fig = gmaps.figure()\n",
    "    fig.add_layer(layer)\n",
    "    return fig"
   ]
  },
  {
   "cell_type": "code",
   "execution_count": 170,
   "metadata": {},
   "outputs": [
    {
     "data": {
      "application/vnd.jupyter.widget-view+json": {
       "model_id": "a96f5f6b68e0400f8ce2603a947f407f",
       "version_major": 2,
       "version_minor": 0
      },
      "text/plain": [
       "Figure(layout=FigureLayout(height='420px'))"
      ]
     },
     "metadata": {},
     "output_type": "display_data"
    }
   ],
   "source": [
    "display_route(0)"
   ]
  },
  {
   "cell_type": "code",
   "execution_count": 171,
   "metadata": {},
   "outputs": [
    {
     "data": {
      "application/vnd.jupyter.widget-view+json": {
       "model_id": "94ffddad87dc4b88bfab260fb784443c",
       "version_major": 2,
       "version_minor": 0
      },
      "text/plain": [
       "Figure(layout=FigureLayout(height='420px'))"
      ]
     },
     "metadata": {},
     "output_type": "display_data"
    }
   ],
   "source": [
    "display_route(2)"
   ]
  },
  {
   "cell_type": "code",
   "execution_count": 172,
   "metadata": {},
   "outputs": [
    {
     "data": {
      "application/vnd.jupyter.widget-view+json": {
       "model_id": "daa3a13b09e84100b5b7ddf583596005",
       "version_major": 2,
       "version_minor": 0
      },
      "text/plain": [
       "Figure(layout=FigureLayout(height='420px'))"
      ]
     },
     "metadata": {},
     "output_type": "display_data"
    }
   ],
   "source": [
    "display_route(3)"
   ]
  },
  {
   "cell_type": "code",
   "execution_count": null,
   "metadata": {},
   "outputs": [],
   "source": []
  }
 ],
 "metadata": {
  "kernelspec": {
   "display_name": "Python 3",
   "language": "python",
   "name": "python3"
  },
  "language_info": {
   "codemirror_mode": {
    "name": "ipython",
    "version": 3
   },
   "file_extension": ".py",
   "mimetype": "text/x-python",
   "name": "python",
   "nbconvert_exporter": "python",
   "pygments_lexer": "ipython3",
   "version": "3.6.9"
  }
 },
 "nbformat": 4,
 "nbformat_minor": 2
}
